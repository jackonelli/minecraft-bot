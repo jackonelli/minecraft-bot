{
 "cells": [
  {
   "cell_type": "code",
   "execution_count": 5,
   "metadata": {
    "scrolled": true
   },
   "outputs": [
    {
     "name": "stderr",
     "output_type": "stream",
     "text": [
      "C:\\Users\\georg\\anaconda3\\envs\\minerl\\lib\\site-packages\\gym\\logger.py:30: UserWarning: \u001b[33mWARN: Box bound precision lowered by casting to float32\u001b[0m\n",
      "  warnings.warn(colorize('%s: %s'%('WARN', msg % args), 'yellow'))\n"
     ]
    }
   ],
   "source": [
    "import gym\n",
    "import minerl"
   ]
  },
  {
   "cell_type": "code",
   "execution_count": 6,
   "metadata": {},
   "outputs": [],
   "source": [
    "%run parse_missions"
   ]
  },
  {
   "cell_type": "code",
   "execution_count": 7,
   "metadata": {},
   "outputs": [],
   "source": [
    "import logging\n",
    "logging.basicConfig(level=logging.DEBUG)"
   ]
  },
  {
   "cell_type": "code",
   "execution_count": null,
   "metadata": {},
   "outputs": [
    {
     "name": "stderr",
     "output_type": "stream",
     "text": [
      "INFO:minerl.env.malmo.instance.e00dde:Starting Minecraft process: ['C:\\\\Users\\\\georg\\\\AppData\\\\Local\\\\Temp\\\\tmpv9o50wxi\\\\Minecraft\\\\launchClient.bat', '-port', '11913', '-env', '-runDir', 'C:\\\\Users\\\\georg\\\\AppData\\\\Local\\\\Temp\\\\tmpv9o50wxi\\\\Minecraft\\\\run']\n",
      "INFO:minerl.env.malmo.instance.e00dde:Starting process watcher for process 8968 @ localhost:11913\n"
     ]
    }
   ],
   "source": [
    "env = gym.make(\"MineRLNavigate-v0\", xml=\"my_mission_xmls/navigationFixedLTH.xml\")"
   ]
  },
  {
   "cell_type": "code",
   "execution_count": 5,
   "metadata": {},
   "outputs": [
    {
     "name": "stderr",
     "output_type": "stream",
     "text": [
      "DEBUG:minerl.env.core:Creating socket connection!\n",
      "DEBUG:minerl.env.core:Sending mission init!\n",
      "DEBUG:minerl.env.malmo.instance.37f227:[12:09:29] [EnvServerSocketHandler/INFO]: [STDOUT]: Received from 127.0.0.1:<MissionInit xmlns=\"http://ProjectMalmo.microsoft.com\" xmlns:xsi=\"http://www.w3.org/2001/XMLSchema-instance\" SchemaVersion=\"\" PlatformVersion=\"0.37.0\">\n",
      "DEBUG:minerl.env.malmo.instance.37f227:                                <Mission>\n",
      "DEBUG:minerl.env.malmo.instance.37f227:    <About>\n",
      "DEBUG:minerl.env.malmo.instance.37f227:        <Summary>MineRLNavigate-v0</Summary>\n",
      "DEBUG:minerl.env.malmo.instance.37f227:    </About>\n",
      "DEBUG:minerl.env.malmo.instance.37f227:\n",
      "DEBUG:minerl.env.malmo.instance.37f227:    <ModSettings>\n",
      "DEBUG:minerl.env.malmo.instance.37f227:        <MsPerTick>50</MsPerTick>\n",
      "DEBUG:minerl.env.malmo.instance.37f227:    </ModSettings>\n",
      "DEBUG:minerl.env.malmo.instance.37f227:\n",
      "DEBUG:minerl.env.malmo.instance.37f227:    <ServerSection>\n",
      "DEBUG:minerl.env.malmo.instance.37f227:        <ServerInitialConditions>\n",
      "DEBUG:minerl.env.malmo.instance.37f227:            <Time>\n",
      "DEBUG:minerl.env.malmo.instance.37f227:                <StartTime>6000</StartTime>\n",
      "DEBUG:minerl.env.malmo.instance.37f227:                <AllowPassageOfTime>false</AllowPassageOfTime>\n",
      "DEBUG:minerl.env.malmo.instance.37f227:            </Time>\n",
      "DEBUG:minerl.env.malmo.instance.37f227:            \n",
      "DEBUG:minerl.env.malmo.instance.37f227:            <Weather>clear</Weather>\n",
      "DEBUG:minerl.env.malmo.instance.37f227:            <AllowSpawning>false</AllowSpawning>\n",
      "DEBUG:minerl.env.malmo.instance.37f227:        </ServerInitialConditions>\n",
      "DEBUG:minerl.env.malmo.instance.37f227:        <ServerHandlers>\n",
      "DEBUG:minerl.env.malmo.instance.37f227:            <FileWorldGenerator src=\"C:/Users/georg/Documents/PythonScripts/MineRL/minecraft-bot/lth-block-world/LTH-E-huset_original_11.2\" destroyAfterUse=\"true\"/>\n",
      "DEBUG:minerl.env.malmo.instance.37f227:            <NavigationDecorator>\n",
      "DEBUG:minerl.env.malmo.instance.37f227:                <randomPlacementProperties>\n",
      "DEBUG:minerl.env.malmo.instance.37f227:                    <maxRandomizedRadius>64</maxRandomizedRadius>\n",
      "DEBUG:minerl.env.malmo.instance.37f227:                   \n",
      "DEBUG:minerl.env.malmo.instance.37f227:[12:09:30] [EnvServerSocketHandler/INFO]: [STDOUT]: REPLYING WITH: MALMOOK\n",
      "DEBUG:minerl.env.core:Peeking the client.\n",
      "DEBUG:minerl.env.malmo.instance.37f227:[12:09:30] [Client thread/INFO]: [STDOUT]: Mission received: MineRLNavigate-v0\n",
      "DEBUG:minerl.env.malmo.instance.37f227:[12:09:30] [Client thread/INFO]: [STDOUT]: CLIENT request state: CREATING_HANDLERS\n",
      "DEBUG:minerl.env.malmo.instance.37f227:[12:09:30] [Client thread/INFO]: [STDOUT]: CLIENT enter state: CREATING_HANDLERS\n",
      "DEBUG:minerl.env.malmo.instance.37f227:[12:09:30] [Client thread/INFO]: [STDOUT]: Starting command server.\n",
      "DEBUG:minerl.env.malmo.instance.37f227:[12:09:30] [Thread-11/INFO]: [STDOUT]: INFO: ->com(0) Listening for messages on port 10833\n",
      "DEBUG:minerl.env.malmo.instance.37f227:[12:09:30] [Client thread/INFO]: [STDOUT]: CLIENT request state: EVALUATING_WORLD_REQUIREMENTS\n",
      "DEBUG:minerl.env.malmo.instance.37f227:[12:09:30] [Client thread/INFO]: [STDOUT]: CLIENT enter state: EVALUATING_WORLD_REQUIREMENTS\n",
      "DEBUG:minerl.env.malmo.instance.37f227:[12:09:30] [Client thread/INFO]: [STDOUT]: CLIENT request state: CREATING_NEW_WORLD\n",
      "DEBUG:minerl.env.malmo.instance.37f227:[12:09:30] [Client thread/INFO]: [STDOUT]: CLIENT enter state: CREATING_NEW_WORLD\n",
      "DEBUG:minerl.env.malmo.instance.37f227:[12:09:30] [Client thread/INFO]: [STDOUT]: Current directory: C:\\Users\\georg\\AppData\\Local\\Temp\\tmpdf9wqpb4\\Minecraft\\run\n",
      "DEBUG:minerl.env.malmo.instance.37f227:[12:09:32] [Server thread/INFO]: Starting integrated minecraft server version 1.11.2\n",
      "DEBUG:minerl.env.malmo.instance.37f227:[12:09:32] [Server thread/INFO]: Generating keypair\n",
      "DEBUG:minerl.env.malmo.instance.37f227:[12:09:32] [Server thread/INFO]: Loading dimension 0 (world) (net.minecraft.server.integrated.IntegratedServer@66c9fc5c)\n",
      "DEBUG:minerl.env.malmo.instance.37f227:[12:09:32] [Server thread/INFO]: Loading dimension 1 (world) (net.minecraft.server.integrated.IntegratedServer@66c9fc5c)\n",
      "DEBUG:minerl.env.malmo.instance.37f227:[12:09:32] [Server thread/INFO]: Loading dimension -1 (world) (net.minecraft.server.integrated.IntegratedServer@66c9fc5c)\n",
      "DEBUG:minerl.env.malmo.instance.37f227:[12:09:32] [Server thread/INFO]: Preparing start region for level 0\n",
      "DEBUG:minerl.env.malmo.instance.37f227:[12:09:33] [Server thread/INFO]: Changing view distance to 4, from 10\n",
      "DEBUG:minerl.env.malmo.instance.37f227:[12:09:34] [Server thread/INFO]: [STDOUT]: SERVER request state: WAITING_FOR_MOD_READY\n",
      "DEBUG:minerl.env.malmo.instance.37f227:[12:09:34] [Server thread/INFO]: [STDOUT]: CLIENT request state: WAITING_FOR_SERVER_READY\n",
      "DEBUG:minerl.env.malmo.instance.37f227:[12:09:34] [Client thread/INFO]: [STDOUT]: CLIENT enter state: WAITING_FOR_SERVER_READY\n",
      "DEBUG:minerl.env.malmo.instance.37f227:[12:09:34] [Netty Local Client IO #0/INFO]: [STDOUT]: Transformed Name: net.minecraft.client.entity.EntityOtherPlayerMP\n",
      "DEBUG:minerl.env.malmo.instance.37f227:[12:09:34] [Netty Local Client IO #0/INFO]: [STDOUT]: MALMO: Attempting to transform MinecraftServer\n",
      "DEBUG:minerl.env.malmo.instance.37f227:[12:09:34] [Netty Local Client IO #0/INFO]: [STDOUT]: MALMO: Found EntityOtherPlayerMP, attempting to transform it\n",
      "DEBUG:minerl.env.malmo.instance.37f227:[12:09:34] [Server thread/INFO]: [STDOUT]: SERVER enter state: WAITING_FOR_MOD_READY\n",
      "DEBUG:minerl.env.malmo.instance.37f227:[12:09:34] [Netty Local Client IO #0/INFO]: Server protocol version 2\n",
      "DEBUG:minerl.env.malmo.instance.37f227:[12:09:34] [Netty Server IO #1/INFO]: Client protocol version 2\n",
      "DEBUG:minerl.env.malmo.instance.37f227:[12:09:34] [Netty Server IO #1/INFO]: Client attempting to join with 5 mods : minecraft@1.11.2,FML@8.0.99.99,malmomod@0.37.0,forge@13.20.0.2228,mcp@9.19\n",
      "DEBUG:minerl.env.malmo.instance.37f227:[12:09:34] [Netty Local Client IO #0/INFO]: [Netty Local Client IO #0] Client side modded connection established\n",
      "DEBUG:minerl.env.malmo.instance.37f227:[12:09:34] [Server thread/INFO]: [STDOUT]: SERVER request state: DORMANT\n",
      "DEBUG:minerl.env.malmo.instance.37f227:[12:09:34] [Server thread/INFO]: [STDOUT]: SERVER enter state: DORMANT\n",
      "DEBUG:minerl.env.malmo.instance.37f227:[12:09:34] [Server thread/INFO]: [STDOUT]: INCOMING MISSION: Received MissionInit directly through ServerStateMachine constructor.\n",
      "DEBUG:minerl.env.malmo.instance.37f227:[12:09:34] [Server thread/INFO]: [STDOUT]: Mission received: MineRLNavigate-v0\n",
      "DEBUG:minerl.env.malmo.instance.37f227:[12:09:34] [Server thread/INFO]: Received mission: §9MineRLNavigate-v0\n",
      "DEBUG:minerl.env.malmo.instance.37f227:[12:09:34] [Server thread/INFO]: Source: §a127.0.0.1\n",
      "DEBUG:minerl.env.malmo.instance.37f227:[12:09:34] [Server thread/INFO]: [STDOUT]: SERVER request state: BUILDING_WORLD\n",
      "DEBUG:minerl.env.malmo.instance.37f227:[12:09:34] [Server thread/INFO]: [Server thread] Server side modded connection established\n",
      "DEBUG:minerl.env.malmo.instance.37f227:[12:09:34] [Server thread/INFO]: MineRLAgent[local:E:8459fa00] logged in with entity id 359 at (-259.5, 64.0, 10254.5)\n",
      "DEBUG:minerl.env.malmo.instance.37f227:[12:09:34] [Server thread/INFO]: MineRLAgent joined the game\n",
      "DEBUG:minerl.env.malmo.instance.37f227:[12:09:34] [Server thread/INFO]: [STDOUT]: SERVER enter state: BUILDING_WORLD\n",
      "DEBUG:minerl.env.malmo.instance.37f227:[12:09:34] [Server thread/INFO]: [STDOUT]: SERVER request state: WAITING_FOR_AGENTS_TO_ASSEMBLE\n",
      "DEBUG:minerl.env.malmo.instance.37f227:[12:09:34] [Server thread/INFO]: [STDOUT]: SERVER enter state: WAITING_FOR_AGENTS_TO_ASSEMBLE\n",
      "DEBUG:minerl.env.malmo.instance.37f227:[12:09:34] [Server thread/INFO]: [STDOUT]: Experiment requires: \n",
      "DEBUG:minerl.env.malmo.instance.37f227:[12:09:34] [Server thread/INFO]: [STDOUT]: >>>> MineRLAgent\n",
      "DEBUG:minerl.env.malmo.instance.37f227:[12:09:35] [Client thread/INFO]: [STDOUT]: ***Telling server we are ready - MineRLAgent\n",
      "DEBUG:minerl.env.malmo.instance.37f227:[12:09:35] [Client thread/INFO]: [STDOUT]: CLIENT request state: RUNNING\n",
      "DEBUG:minerl.env.malmo.instance.37f227:[12:09:35] [Client thread/INFO]: [STDOUT]: CLIENT enter state: RUNNING\n"
     ]
    },
    {
     "name": "stderr",
     "output_type": "stream",
     "text": [
      "DEBUG:minerl.env.malmo.instance.37f227:[12:09:35] [Client thread/INFO]: [STDOUT]: Resized the window\n",
      "DEBUG:minerl.env.malmo.instance.37f227:[12:09:35] [Server thread/INFO]: [STDOUT]: SERVER request state: RUNNING\n",
      "DEBUG:minerl.env.malmo.instance.37f227:[12:09:35] [Client thread/INFO]: [STDOUT]: Unpausing\n",
      "DEBUG:minerl.env.malmo.instance.37f227:[12:09:35] [Server thread/INFO]: [STDOUT]: SERVER enter state: RUNNING\n",
      "DEBUG:minerl.env.malmo.instance.37f227:[12:09:36] [Client thread/INFO]: [CHAT] §l300...\n"
     ]
    }
   ],
   "source": [
    "obs = env.reset()"
   ]
  },
  {
   "cell_type": "code",
   "execution_count": 6,
   "metadata": {},
   "outputs": [
    {
     "name": "stderr",
     "output_type": "stream",
     "text": [
      "DEBUG:minerl.env.malmo.instance.37f227:[12:09:45] [Server thread/INFO]: [STDOUT]: Warning: managed 3/20 ticks this second.\n",
      "DEBUG:minerl.env.malmo.instance.37f227:[12:09:45] [Client thread/INFO]: [CHAT] §l299...\n",
      "DEBUG:minerl.env.malmo.instance.37f227:[12:09:46] [Client thread/INFO]: [CHAT] §l298...\n",
      "DEBUG:minerl.env.malmo.instance.37f227:[12:09:46] [Client thread/INFO]: [CHAT] §l297...\n",
      "DEBUG:minerl.env.malmo.instance.37f227:[12:09:46] [Client thread/INFO]: [CHAT] §l296...\n",
      "DEBUG:minerl.env.malmo.instance.37f227:[12:09:47] [Client thread/INFO]: [CHAT] §l295...\n",
      "DEBUG:minerl.env.malmo.instance.37f227:[12:09:47] [Client thread/INFO]: [CHAT] §l294...\n",
      "DEBUG:minerl.env.malmo.instance.37f227:[12:09:47] [Client thread/INFO]: Stopping!\n",
      "DEBUG:minerl.env.malmo.instance.37f227:[12:09:47] [Client thread/INFO]: [STDOUT]: Unpausing\n",
      "DEBUG:minerl.env.malmo.instance.37f227:[12:09:47] [Server thread/INFO]: Stopping server\n",
      "DEBUG:minerl.env.malmo.instance.37f227:[12:09:47] [Server thread/INFO]: Saving players\n",
      "DEBUG:minerl.env.malmo.instance.37f227:[12:09:47] [Server thread/INFO]: Saving worlds\n",
      "DEBUG:minerl.env.malmo.instance.37f227:[12:09:47] [Server thread/INFO]: Saving chunks for level 'world'/Overworld\n",
      "DEBUG:minerl.env.malmo.instance.37f227:[12:09:47] [Server thread/INFO]: Saving chunks for level 'world'/Nether\n",
      "DEBUG:minerl.env.malmo.instance.37f227:[12:09:47] [Server thread/INFO]: Saving chunks for level 'world'/The End\n",
      "DEBUG:minerl.env.malmo.instance.37f227:[12:09:47] [Server thread/INFO]: [STDOUT]: Unpausing\n",
      "DEBUG:minerl.env.malmo.instance.37f227:[12:09:47] [Server thread/INFO]: [STDOUT]: Unpausing\n",
      "DEBUG:minerl.env.malmo.instance.37f227:[12:09:47] [Server thread/INFO]: [STDOUT]: Unpausing\n",
      "DEBUG:minerl.env.malmo.instance.37f227:[12:09:47] [Server thread/INFO]: Unloading dimension 0\n",
      "DEBUG:minerl.env.malmo.instance.37f227:[12:09:47] [Server thread/INFO]: Unloading dimension -1\n",
      "DEBUG:minerl.env.malmo.instance.37f227:[12:09:47] [Server thread/INFO]: Unloading dimension 1\n",
      "DEBUG:minerl.env.malmo.instance.37f227:[12:09:47] [Client thread/INFO]: SoundSystem shutting down...\n",
      "DEBUG:minerl.env.malmo.instance.37f227:[12:09:47] [Server thread/INFO]: Applying holder lookups\n",
      "DEBUG:minerl.env.malmo.instance.37f227:[12:09:47] [Server thread/INFO]: Holder lookups applied\n",
      "DEBUG:minerl.env.malmo.instance.37f227:[12:09:48] [Client thread/WARN]: Author: Paul Lamb, www.paulscode.com\n",
      "ERROR:minerl.env.core:Cleaning connection! Something must have gone wrong.\n",
      "ERROR:minerl.env.core:Failed to take a step (timeout or error). Terminating episode and sending random observation, be aware. To account for this failure case in your code check to see if `'error' in info` where info is the info dictionary returned by the step function.\n",
      "DEBUG:minerl.env.malmo.instance.37f227:\n",
      "DEBUG:minerl.env.malmo.instance.37f227:BUILD SUCCESSFUL\n",
      "DEBUG:minerl.env.malmo.instance.37f227:\n",
      "DEBUG:minerl.env.malmo.instance.37f227:Total time: 1 mins 38.102 secs\n"
     ]
    }
   ],
   "source": [
    "done = False\n",
    "\n",
    "while not done:\n",
    "    action = env.action_space.sample()\n",
    "    obs, reward, done, _ = env.step(action)"
   ]
  },
  {
   "cell_type": "code",
   "execution_count": 7,
   "metadata": {},
   "outputs": [
    {
     "name": "stderr",
     "output_type": "stream",
     "text": [
      "ERROR:minerl.env.malmo:Attempted to send kill command to minecraft process and failed.\n"
     ]
    }
   ],
   "source": [
    "env.close()"
   ]
  },
  {
   "cell_type": "code",
   "execution_count": null,
   "metadata": {},
   "outputs": [],
   "source": []
  }
 ],
 "metadata": {
  "kernelspec": {
   "display_name": "Python 3",
   "language": "python",
   "name": "python3"
  },
  "language_info": {
   "codemirror_mode": {
    "name": "ipython",
    "version": 3
   },
   "file_extension": ".py",
   "mimetype": "text/x-python",
   "name": "python",
   "nbconvert_exporter": "python",
   "pygments_lexer": "ipython3",
   "version": "3.7.7"
  }
 },
 "nbformat": 4,
 "nbformat_minor": 4
}
