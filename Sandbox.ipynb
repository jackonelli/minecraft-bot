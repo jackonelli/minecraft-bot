{
 "cells": [
  {
   "cell_type": "code",
   "execution_count": 1,
   "metadata": {
    "scrolled": true
   },
   "outputs": [
    {
     "name": "stderr",
     "output_type": "stream",
     "text": [
      "C:\\Users\\georg\\anaconda3\\envs\\minerl\\lib\\site-packages\\gym\\logger.py:30: UserWarning: \u001b[33mWARN: Box bound precision lowered by casting to float32\u001b[0m\n",
      "  warnings.warn(colorize('%s: %s'%('WARN', msg % args), 'yellow'))\n"
     ]
    }
   ],
   "source": [
    "import gym\n",
    "import minerl\n",
    "\n",
    "import numpy as np\n",
    "import matplotlib.pyplot as plt\n",
    "from scipy import ndimage as ndi\n",
    "\n",
    "from skimage import feature\n",
    "\n",
    "import os\n",
    "\n",
    "from mission_util import create_mission, INTERESTING_COORDS\n",
    "\n",
    "\n",
    "import torch\n",
    "import torch.nn as nn\n",
    "from torch.distributions.categorical import Categorical\n",
    "from torch.optim import Adam, Adagrad\n",
    "from gym.spaces import Discrete, Box"
   ]
  },
  {
   "cell_type": "code",
   "execution_count": 2,
   "metadata": {},
   "outputs": [],
   "source": [
    "mission_name = \"outsideToEntranceDense\"\n",
    "create_mission(start_coords=INTERESTING_COORDS[\"outside_close_to_entrance\"],\n",
    "               goal_coords=INTERESTING_COORDS[\"inside_entrance\"],\n",
    "               mission_name=mission_name,\n",
    "               dense=True)"
   ]
  },
  {
   "cell_type": "code",
   "execution_count": 3,
   "metadata": {},
   "outputs": [],
   "source": [
    "%run parse_missions"
   ]
  },
  {
   "cell_type": "code",
   "execution_count": 4,
   "metadata": {},
   "outputs": [],
   "source": [
    "#import logging\n",
    "#logging.basicConfig(level=logging.DEBUG)"
   ]
  },
  {
   "cell_type": "code",
   "execution_count": 5,
   "metadata": {},
   "outputs": [],
   "source": [
    "xml_path = os.path.join(\"my_mission_xmls\", mission_name + \".xml\")\n",
    "env = gym.make(\"MineRLNavigate-v0\", xml=xml_path)"
   ]
  },
  {
   "cell_type": "code",
   "execution_count": 6,
   "metadata": {},
   "outputs": [],
   "source": [
    "# set the environment to allow interactive connections on port 6666\n",
    "# and slow the tick speed to 6666.\n",
    "# env.make_interactive(port=6666, realtime=True)"
   ]
  },
  {
   "cell_type": "code",
   "execution_count": 7,
   "metadata": {},
   "outputs": [],
   "source": [
    "obs = env.reset()"
   ]
  },
  {
   "cell_type": "code",
   "execution_count": 8,
   "metadata": {},
   "outputs": [
    {
     "name": "stdout",
     "output_type": "stream",
     "text": [
      "(64, 64)\n"
     ]
    },
    {
     "data": {
      "image/png": "[encoded data removed]",
      "text/plain": [
       "<Figure size 432x288 with 1 Axes>"
      ]
     },
     "metadata": {
      "needs_background": "light"
     },
     "output_type": "display_data"
    }
   ],
   "source": [
    "im = obs[\"pov\"][..., 0]\n",
    "edges = feature.canny(im, sigma=1)\n",
    "plt.imshow(edges, cmap=plt.cm.gray)\n",
    "print(im.shape)"
   ]
  },
  {
   "cell_type": "code",
   "execution_count": 9,
   "metadata": {},
   "outputs": [],
   "source": [
    "#adapted from \n",
    "#https://github.com/openai/spinningup/blob/master/spinup/examples/pytorch/pg_math/1_simple_pg.py\n",
    "def mlp(sizes, activation=nn.Tanh, output_activation=nn.Identity):\n",
    "    # Build a feedforward neural network.\n",
    "    layers = []\n",
    "    for j in range(len(sizes)-1):\n",
    "        act = activation if j < len(sizes)-2 else output_activation\n",
    "        layers += [nn.Linear(sizes[j], sizes[j+1]), act()]\n",
    "    return nn.Sequential(*layers)\n",
    "\n",
    "def train(env, logits_net = None, hidden_sizes=[32], lr=1e-2,\n",
    "          epochs=50, max_steps_per_epoch=30, \n",
    "          batch_size=5000, min_episodes_per_epoch=0, render=False):\n",
    "\n",
    "    \n",
    "    def compress_obs(obs, pov_channel=0, canny_sigma=1.):\n",
    "        angle = obs[\"compassAngle\"]\n",
    "        im = obs[\"pov\"][..., pov_channel]\n",
    "        #im = feature.canny(im, sigma=canny_sigma)\n",
    "        obs = np.append(im.flatten(), angle)\n",
    "        return obs\n",
    "\n",
    "    obs_dim = 1 + obs[\"pov\"].shape[0] * obs[\"pov\"].shape[1]\n",
    "    actions = [{\"forward\" : 1, \"camera\" : [0, 0]},\n",
    "                {\"camera\" : [0, 90]}]\n",
    "    n_acts = len(actions)\n",
    "\n",
    "    # make core of policy network\n",
    "    if logits_net is None:\n",
    "        logits_net = mlp(sizes=[obs_dim]+hidden_sizes+[n_acts])\n",
    "\n",
    "    # make function to compute action distribution\n",
    "    def get_policy(obs):\n",
    "        logits = logits_net(obs)\n",
    "        return Categorical(logits=logits)\n",
    "\n",
    "    # make action selection function (outputs int actions, sampled from policy)\n",
    "    def get_action(obs):\n",
    "        return get_policy(obs).sample().item()\n",
    "\n",
    "    # make loss function whose gradient, for the right data, is policy gradient\n",
    "    def compute_loss(obs, act, weights):\n",
    "        logp = get_policy(obs).log_prob(act)\n",
    "        return -(logp * weights).mean()\n",
    "\n",
    "    # make optimizer\n",
    "    optimizer = Adam(logits_net.parameters(), lr=lr)\n",
    "\n",
    "    # for training policy\n",
    "    def train_one_epoch():\n",
    "        # make some empty lists for logging.\n",
    "        batch_obs = []          # for observations\n",
    "        batch_acts = []         # for actions\n",
    "        batch_weights = []      # for R(tau) weighting in policy gradient\n",
    "        batch_rets = []         # for measuring episode returns\n",
    "        batch_lens = []         # for measuring episode lengths\n",
    "\n",
    "        # reset episode-specific variables\n",
    "        obs = env.reset()       # first obs comes from starting distribution\n",
    "        obs = compress_obs(obs)\n",
    "                    \n",
    "        if render:\n",
    "            env.render()\n",
    "        \n",
    "        done = False            # signal from environment that episode is over\n",
    "        ep_rews = []            # list for rewards accrued throughout ep\n",
    "\n",
    "\n",
    "        # collect experience by acting in the environment with current policy\n",
    "        nbr_actions = 0\n",
    "        while True:\n",
    "\n",
    "\n",
    "            # save obs\n",
    "            batch_obs.append(obs.copy())\n",
    "\n",
    "            # act in the environment\n",
    "            act = get_action(torch.as_tensor(obs, dtype=torch.float32))\n",
    "            nbr_actions += 1\n",
    "            \n",
    "            obs, rew, done, _ = env.step(actions[act])\n",
    "            obs = compress_obs(obs)\n",
    "            \n",
    "            if render:\n",
    "                env.render()\n",
    "\n",
    "            # save action, reward\n",
    "            batch_acts.append(act)\n",
    "            ep_rews.append(rew)\n",
    "\n",
    "            if nbr_actions >= max_steps_per_epoch or done:\n",
    "                # if episode is over, record info about episode\n",
    "                ep_ret, ep_len = sum(ep_rews), len(ep_rews)\n",
    "                batch_rets.append(ep_ret)\n",
    "                batch_lens.append(ep_len)\n",
    "\n",
    "                # the weight for each logprob(a|s) is R(tau)\n",
    "                batch_weights += [ep_ret] * ep_len\n",
    "\n",
    "                # reset episode-specific variables\n",
    "                obs, done, ep_rews, nbr_actions = env.reset(), False, [], 0\n",
    "                obs = compress_obs(obs)\n",
    "\n",
    "                # end experience loop if we have enough of it\n",
    "                if (len(batch_obs) > batch_size) and \\\n",
    "                  (len(batch_rets) >= min_episodes_per_epoch):\n",
    "                    break\n",
    "\n",
    "        # take a single policy gradient update step\n",
    "        optimizer.zero_grad()\n",
    "        batch_loss = compute_loss(obs=torch.as_tensor(batch_obs, dtype=torch.float32),\n",
    "                                  act=torch.as_tensor(batch_acts, dtype=torch.int32),\n",
    "                                  weights=torch.as_tensor(batch_weights, dtype=torch.float32)\n",
    "                                  )\n",
    "        batch_loss.backward()\n",
    "        optimizer.step()\n",
    "        return batch_loss, batch_rets, batch_lens\n",
    "\n",
    "    # training loop\n",
    "    for i in range(epochs):\n",
    "        batch_loss, batch_rets, batch_lens = train_one_epoch()\n",
    "        print(('epoch: %3d \\t loss: %.3f \\t avg_return: %.3f' +\n",
    "                '\\t avg_episode_len: %.3f \\t epoch_len: %3d')%\n",
    "                (i, batch_loss, np.mean(batch_rets), np.mean(batch_lens), len(batch_rets)))\n",
    "        \n",
    "    return logits_net"
   ]
  },
  {
   "cell_type": "code",
   "execution_count": null,
   "metadata": {},
   "outputs": [
    {
     "name": "stdout",
     "output_type": "stream",
     "text": [
      "epoch:   0 \t loss: -0.630 \t avg_return: -0.983\t avg_episode_len: 100.000 \t epoch_len:   6\n"
     ]
    }
   ],
   "source": [
    "learning_rate = 1e-2\n",
    "epochs = 5\n",
    "batch_size = 500\n",
    "max_steps_per_epoch=100\n",
    "\n",
    "mlp = train(env=env, render=False, lr=learning_rate,\n",
    "          epochs=epochs, max_steps_per_epoch=max_steps_per_epoch,\n",
    "          batch_size=batch_size)"
   ]
  },
  {
   "cell_type": "code",
   "execution_count": null,
   "metadata": {},
   "outputs": [],
   "source": [
    "#env.close()"
   ]
  },
  {
   "cell_type": "code",
   "execution_count": null,
   "metadata": {},
   "outputs": [],
   "source": []
  }
 ],
 "metadata": {
  "kernelspec": {
   "display_name": "Python 3",
   "language": "python",
   "name": "python3"
  },
  "language_info": {
   "codemirror_mode": {
    "name": "ipython",
    "version": 3
   },
   "file_extension": ".py",
   "mimetype": "text/x-python",
   "name": "python",
   "nbconvert_exporter": "python",
   "pygments_lexer": "ipython3",
   "version": "3.7.7"
  }
 },
 "nbformat": 4,
 "nbformat_minor": 4
}
